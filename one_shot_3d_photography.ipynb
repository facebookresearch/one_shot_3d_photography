{
  "nbformat": 4,
  "nbformat_minor": 0,
  "metadata": {
    "colab": {
      "name": "one_shot_3d_photography.ipynb",
      "provenance": []
    },
    "kernelspec": {
      "name": "python3",
      "display_name": "Python 3"
    }
  },
  "cells": [
    {
      "cell_type": "code",
      "metadata": {
        "id": "3Cf2us1wiyxq"
      },
      "source": [
        "!git clone https://github.com/facebookresearch/one_shot_3d_photography.git"
      ],
      "execution_count": null,
      "outputs": []
    },
    {
      "cell_type": "code",
      "metadata": {
        "id": "rUotttKmjn57"
      },
      "source": [
        "!wget -c https://repo.continuum.io/archive/Anaconda3-5.1.0-Linux-x86_64.sh\r\n",
        "!chmod +x Anaconda3-5.1.0-Linux-x86_64.sh\r\n",
        "!bash ./Anaconda3-5.1.0-Linux-x86_64.sh -b -f -p /usr/local"
      ],
      "execution_count": null,
      "outputs": []
    },
    {
      "cell_type": "code",
      "metadata": {
        "id": "ggHPabPtlLRP"
      },
      "source": [
        "!conda -V"
      ],
      "execution_count": null,
      "outputs": []
    },
    {
      "cell_type": "code",
      "metadata": {
        "id": "2RgkqaCvl5y2"
      },
      "source": [
        "%cd /content/one_shot_3d_photography"
      ],
      "execution_count": null,
      "outputs": []
    },
    {
      "cell_type": "code",
      "metadata": {
        "id": "xTEpvb4Nl8gq"
      },
      "source": [
        "!conda create -yn one_shot python=3.7"
      ],
      "execution_count": null,
      "outputs": []
    },
    {
      "cell_type": "code",
      "metadata": {
        "id": "QIpAiCaXmTlY"
      },
      "source": [
        "!conda install --file requirements.txt -c conda-forge -c pytorch"
      ],
      "execution_count": null,
      "outputs": []
    },
    {
      "cell_type": "code",
      "metadata": {
        "colab": {
          "base_uri": "https://localhost:8080/"
        },
        "id": "B4fbn1FPmfZv",
        "outputId": "b77a609d-71da-4112-dae4-241c4f40c8be"
      },
      "source": [
        "!python  -V"
      ],
      "execution_count": 7,
      "outputs": [
        {
          "output_type": "stream",
          "text": [
            "Python 3.7.7\n"
          ],
          "name": "stdout"
        }
      ]
    },
    {
      "cell_type": "code",
      "metadata": {
        "id": "dSGtm_Jko5zE"
      },
      "source": [
        "!python cli.py --src_file ./input/pumpkin.jpg --out_file ./output/pumpkin.npy --vis_file ./output/pumpkin.png"
      ],
      "execution_count": null,
      "outputs": []
    }
  ]
}